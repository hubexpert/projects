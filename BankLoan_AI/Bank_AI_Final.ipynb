{
 "cells": [
  {
   "cell_type": "code",
   "execution_count": null,
   "metadata": {
    "colab": {
     "base_uri": "https://localhost:8080/"
    },
    "id": "0m97StVKAxXK",
    "outputId": "10006d77-9bf0-4a88-87da-d8a4461eeda3"
   },
   "outputs": [
    {
     "name": "stdout",
     "output_type": "stream",
     "text": [
      "ROC AUC: 0.9992855825958702\n",
      "              precision    recall  f1-score   support\n",
      "\n",
      "           0     0.9967    0.9956    0.9961       904\n",
      "           1     0.9588    0.9688    0.9637        96\n",
      "\n",
      "    accuracy                         0.9930      1000\n",
      "   macro avg     0.9777    0.9822    0.9799      1000\n",
      "weighted avg     0.9930    0.9930    0.9930      1000\n",
      "\n"
     ]
    },
    {
     "data": {
      "text/plain": [
       "['loan_model_v1.joblib']"
      ]
     },
     "execution_count": 5,
     "metadata": {},
     "output_type": "execute_result"
    }
   ],
   "source": [
    "# train_model.py\n",
    "import pandas as pd\n",
    "import numpy as np\n",
    "from sklearn.model_selection import train_test_split\n",
    "from sklearn.pipeline import Pipeline\n",
    "from sklearn.preprocessing import StandardScaler\n",
    "from sklearn.ensemble import GradientBoostingClassifier\n",
    "from sklearn.metrics import classification_report, roc_auc_score\n",
    "import joblib\n",
    "\n",
    "# === Load your CSV with labelled examples (defaulted: 1, not_default: 0)\n",
    "##df = pd.read_csv(\"loan_data.csv\")  # expects columns described earlier + 'defaulted'\n",
    "\n",
    "# Simple feature engineering\n",
    "##df['debt_to_income'] = df['existing_debt'] / (df['annual_income'] + 1e-6)\n",
    "##features = ['age', 'annual_income', 'credit_score', 'debt_to_income', 'loan_amount', 'loan_term_months']\n",
    "##X = df[features].fillna(0)\n",
    "##y = df['defaulted']\n",
    "df = pd.read_csv(\"/content/Loan_Modelling.csv\")\n",
    "# Drop ID and ZIPCode since they don’t affect loan decisions\n",
    "X = df.drop(columns=[\"ID\", \"ZIPCode\", \"Personal_Loan\"])\n",
    "y = df[\"Personal_Loan\"]\n",
    "featurs=X.columns.tolist()\n",
    "\n",
    "X_train, X_test, y_train, y_test = train_test_split(X, y, stratify=y, test_size=0.2, random_state=42)\n",
    "\n",
    "pipe = Pipeline([\n",
    "    ('scaler', StandardScaler()),\n",
    "    ('gb', GradientBoostingClassifier(n_estimators=200, max_depth=4, random_state=42))\n",
    "])\n",
    "pipe.fit(X_train, y_train)\n",
    "\n",
    "# Eval\n",
    "y_prob = pipe.predict_proba(X_test)[:,1]\n",
    "y_pred = (y_prob > 0.5).astype(int)\n",
    "print(\"ROC AUC:\", roc_auc_score(y_test, y_prob))\n",
    "print(classification_report(y_test, y_pred, digits=4))\n",
    "\n",
    "# Save model + feature list\n",
    "joblib.dump({'model': pipe, 'features': featurs}, \"loan_model_v1.joblib\")"
   ]
  },
  {
   "cell_type": "code",
   "execution_count": null,
   "metadata": {
    "colab": {
     "base_uri": "https://localhost:8080/"
    },
    "id": "RBRMWsYtDdQo",
    "outputId": "f071bccc-cf51-4f43-96b9-e919037b6a6a"
   },
   "outputs": [
    {
     "name": "stdout",
     "output_type": "stream",
     "text": [
      "Loan Eligibility: Approved\n"
     ]
    }
   ],
   "source": [
    "import joblib\n",
    "import pandas as pd\n",
    "\n",
    "# Load the saved model pipeline and feature list\n",
    "loaded_model_info = joblib.load(\"loan_model_v1.joblib\")\n",
    "loaded_pipe = loaded_model_info['model']\n",
    "features = loaded_model_info['features']\n",
    "\n",
    "# Create a DataFrame for the new person with the correct feature names\n",
    "# The order and names of features must match the training data\n",
    "new_person_data = [[35, 10, 80000, 3, 2.5, 2, 0, 0, 1, 1, 1]]\n",
    "new_person_df = pd.DataFrame(new_person_data, columns=features)\n",
    "\n",
    "# Make prediction using the loaded pipeline (scaling is handled internally)\n",
    "prediction = loaded_pipe.predict(new_person_df)\n",
    "\n",
    "print(\"Loan Eligibility:\", \"Approved\" if prediction[0] == 1 else \"Not Approved\")"
   ]
  },
  {
   "cell_type": "code",
   "execution_count": null,
   "metadata": {
    "colab": {
     "background_save": true,
     "base_uri": "https://localhost:8080/"
    },
    "id": "zdujXroJEvpY",
    "outputId": "d76e9c9c-e799-4bc7-f130-479723372382"
   },
   "outputs": [
    {
     "name": "stdout",
     "output_type": "stream",
     "text": [
      " * Serving Flask app '__main__'\n",
      " * Debug mode: on\n"
     ]
    },
    {
     "name": "stderr",
     "output_type": "stream",
     "text": [
      "INFO:werkzeug:\u001b[31m\u001b[1mWARNING: This is a development server. Do not use it in a production deployment. Use a production WSGI server instead.\u001b[0m\n",
      " * Running on http://127.0.0.1:5000\n",
      "INFO:werkzeug:\u001b[33mPress CTRL+C to quit\u001b[0m\n",
      "INFO:werkzeug: * Restarting with watchdog (inotify)\n"
     ]
    }
   ],
   "source": [
    "# app_agent.py\n",
    "from flask import Flask, request, jsonify\n",
    "import joblib\n",
    "import numpy as np\n",
    "import os\n",
    "\n",
    "app = Flask(__name__)\n",
    "store = joblib.load(\"loan_model_v1.joblib\")\n",
    "model = store['model']\n",
    "features = store['features']\n",
    "\n",
    "# Example business policy thresholds:\n",
    "MAX_LOAN_BY_INCOME_RATIO = 0.5  # loan_amount <= 0.5 * annual_income\n",
    "AUTO_REJECT_CREDIT_SCORE = 350\n",
    "AUTO_ACCEPT_CREDIT_SCORE = 800\n",
    "\n",
    "def validate_input(data):\n",
    "    required = ['age','annual_income','credit_score','existing_debt','loan_amount','loan_term_months']\n",
    "    for r in required:\n",
    "        if r not in data:\n",
    "            return False, f\"Missing field: {r}\"\n",
    "    return True, \"\"\n",
    "\n",
    "def apply_business_rules(data):\n",
    "    if data['credit_score'] <= AUTO_REJECT_CREDIT_SCORE:\n",
    "        return 'decline', 'credit_score_below_minimum'\n",
    "    if data['credit_score'] >= AUTO_ACCEPT_CREDIT_SCORE and data['existing_debt'] == 0:\n",
    "        return 'approve', 'exceptionally_high_credit_score_and_no_debt'\n",
    "    ratio = data['loan_amount'] / (data['annual_income'] + 1e-6)\n",
    "    if ratio > MAX_LOAN_BY_INCOME_RATIO:\n",
    "        return 'decline', 'loan_too_large_for_income'\n",
    "    return None, None\n",
    "\n",
    "@app.route('/check', methods=['POST'])\n",
    "def check():\n",
    "    data = request.json\n",
    "    ok, msg = validate_input(data)\n",
    "    if not ok:\n",
    "        return jsonify({'error': msg}), 400\n",
    "\n",
    "    # business rules\n",
    "    rule_decision, rule_reason = apply_business_rules(data)\n",
    "    if rule_decision:\n",
    "        return jsonify({'decision': rule_decision, 'reason': rule_reason, 'score': None})\n",
    "\n",
    "    # prepare features for model\n",
    "    x = np.zeros((1, len(features)))\n",
    "    prepared = {\n",
    "        'age': data['age'],\n",
    "        'annual_income': data['annual_income'],\n",
    "        'credit_score': data['credit_score'],\n",
    "        'debt_to_income': data['existing_debt'] / (data['annual_income'] + 1e-6),\n",
    "        'loan_amount': data['loan_amount'],\n",
    "        'loan_term_months': data['loan_term_months']\n",
    "    }\n",
    "    x[0] = [prepared[f] for f in features]\n",
    "    score = float(model.predict_proba(x)[0,1])  # probability of default\n",
    "\n",
    "    # decision thresholds (policy): if default_prob < 0.1 approve, >0.4 decline, otherwise manual review\n",
    "    if score < 0.1:\n",
    "        decision = 'approve'\n",
    "    elif score > 0.4:\n",
    "        decision = 'decline'\n",
    "    else:\n",
    "        decision = 'manual_review'\n",
    "\n",
    "    # simple explainability: top features by absolute z-score\n",
    "    # (for production use SHAP or LIME)\n",
    "    diffs = np.abs((x - model.named_steps['scaler'].mean_) / (model.named_steps['scaler'].scale_ + 1e-9))\n",
    "    top_idx = np.argsort(-diffs[0])[:3]\n",
    "    reasons = [f\"{features[i]} is {x[0,i]:.2f}\" for i in top_idx]\n",
    "\n",
    "    return jsonify({'decision': decision, 'score_default_prob': score, 'top_reasons': reasons})\n",
    "\n",
    "if __name__ == '__main__':\n",
    "    app.run(debug=True, port=5000)\n"
   ]
  }
 ],
 "metadata": {
  "colab": {
   "provenance": []
  },
  "kernelspec": {
   "display_name": "Python (rdkit-env)",
   "language": "python",
   "name": "rdkit-env"
  },
  "language_info": {
   "name": "python"
  }
 },
 "nbformat": 4,
 "nbformat_minor": 4
}
